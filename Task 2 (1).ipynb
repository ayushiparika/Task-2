{
 "cells": [
  {
   "cell_type": "code",
   "execution_count": 1,
   "id": "8382f78f",
   "metadata": {},
   "outputs": [
    {
     "name": "stdout",
     "output_type": "stream",
     "text": [
      "Requirement already satisfied: pygoogle_image in c:\\users\\ayushi parkia\\anaconda3\\lib\\site-packages (1.0.0)\n",
      "Requirement already satisfied: progressbar in c:\\users\\ayushi parkia\\anaconda3\\lib\\site-packages (from pygoogle_image) (2.5)\n",
      "Requirement already satisfied: python-magic-bin==0.4.14 in c:\\users\\ayushi parkia\\anaconda3\\lib\\site-packages (from pygoogle_image) (0.4.14)\n",
      "Requirement already satisfied: urllib3 in c:\\users\\ayushi parkia\\anaconda3\\lib\\site-packages (from pygoogle_image) (1.26.9)\n",
      "Requirement already satisfied: requests in c:\\users\\ayushi parkia\\anaconda3\\lib\\site-packages (from pygoogle_image) (2.27.1)\n",
      "Requirement already satisfied: charset-normalizer~=2.0.0 in c:\\users\\ayushi parkia\\anaconda3\\lib\\site-packages (from requests->pygoogle_image) (2.0.4)\n",
      "Requirement already satisfied: idna<4,>=2.5 in c:\\users\\ayushi parkia\\anaconda3\\lib\\site-packages (from requests->pygoogle_image) (3.3)\n",
      "Requirement already satisfied: certifi>=2017.4.17 in c:\\users\\ayushi parkia\\anaconda3\\lib\\site-packages (from requests->pygoogle_image) (2021.10.8)\n",
      "Note: you may need to restart the kernel to use updated packages.\n"
     ]
    }
   ],
   "source": [
    "pip install pygoogle_image"
   ]
  },
  {
   "cell_type": "code",
   "execution_count": 2,
   "id": "e732c522",
   "metadata": {},
   "outputs": [],
   "source": [
    "from pygoogle_image import image as pi"
   ]
  },
  {
   "cell_type": "code",
   "execution_count": null,
   "id": "89943cc2",
   "metadata": {},
   "outputs": [],
   "source": [
    "person_name = input(\"Enter the name of the person: \")\n",
    "pi.download(keywords=\"person_name\", limit=50)"
   ]
  },
  {
   "cell_type": "code",
   "execution_count": 10,
   "id": "1cb482fb",
   "metadata": {},
   "outputs": [],
   "source": [
    "import requests"
   ]
  },
  {
   "cell_type": "code",
   "execution_count": 16,
   "id": "2adb1da3",
   "metadata": {},
   "outputs": [],
   "source": [
    "def download_image(url, filename):\n",
    "    response = requests.get(url)\n",
    "    if response.status_code == 50:\n",
    "        with open(filename, 'wb') as file:\n",
    "            file.write(response.content)\n",
    "        print(f\"Image downloaded successfully as {file_name}\")\n",
    "    else:\n",
    "        print(\"Failed to download the image\")"
   ]
  },
  {
   "cell_type": "code",
   "execution_count": 14,
   "id": "7eab7f25",
   "metadata": {},
   "outputs": [
    {
     "name": "stdout",
     "output_type": "stream",
     "text": [
      "Image downloaded successfully as myimage.jpg\n"
     ]
    }
   ],
   "source": [
    "image_url=\"http://localhost:8888/tree/images/person_name\"\n",
    "file_name=\"myimage.jpg\"\n",
    "download_image(image_url,file_name)"
   ]
  },
  {
   "cell_type": "code",
   "execution_count": 12,
   "id": "b4a27ea9",
   "metadata": {},
   "outputs": [
    {
     "name": "stdout",
     "output_type": "stream",
     "text": [
      "Image downloaded successfully as myimage.jpg\n"
     ]
    }
   ],
   "source": []
  },
  {
   "cell_type": "code",
   "execution_count": null,
   "id": "0d7342b9",
   "metadata": {},
   "outputs": [],
   "source": []
  }
 ],
 "metadata": {
  "kernelspec": {
   "display_name": "Python 3 (ipykernel)",
   "language": "python",
   "name": "python3"
  },
  "language_info": {
   "codemirror_mode": {
    "name": "ipython",
    "version": 3
   },
   "file_extension": ".py",
   "mimetype": "text/x-python",
   "name": "python",
   "nbconvert_exporter": "python",
   "pygments_lexer": "ipython3",
   "version": "3.9.12"
  }
 },
 "nbformat": 4,
 "nbformat_minor": 5
}
